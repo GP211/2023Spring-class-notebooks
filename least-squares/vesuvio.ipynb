{
 "cells": [
  {
   "cell_type": "markdown",
   "metadata": {
    "colab_type": "text",
    "id": "view-in-github",
    "tags": []
   },
   "source": [
    "<a href=\"https://colab.research.google.com/github/rgclapp007/gp211-class-notebooks/blob/main/least-squares/vesuvio.ipynb\" target=\"_parent\"><img src=\"https://colab.research.google.com/assets/colab-badge.svg\" alt=\"Open In Colab\"/></a>"
   ]
  },
  {
   "cell_type": "code",
   "execution_count": null,
   "metadata": {
    "colab": {
     "base_uri": "https://localhost:8080/"
    },
    "id": "wzrobLeBy72U",
    "outputId": "1f0e2f16-a79e-4414-c982-38151c289584"
   },
   "outputs": [],
   "source": [
    "!python -m pip install \"sep_plot @ git+http://zapad.stanford.edu/bob/pySepPlot.git@b56326716dce35e53e66459cae2227ada16ceabb\"\n"
   ]
  },
  {
   "cell_type": "code",
   "execution_count": null,
   "metadata": {
    "colab": {
     "base_uri": "https://localhost:8080/"
    },
    "id": "MvRg1neMzKCO",
    "outputId": "fceeca9e-52cb-4051-8279-e9e2b0980869"
   },
   "outputs": [],
   "source": [
    "!wget https://raw.githubusercontent.com/rgclapp007/gp211-class-notebooks/main/data/vesuvio.H\n"
   ]
  },
  {
   "cell_type": "markdown",
   "metadata": {
    "id": "jGEihRLFz0o3"
   },
   "source": [
    "# Vesuvio"
   ]
  },
  {
   "cell_type": "code",
   "execution_count": null,
   "metadata": {
    "colab": {
     "base_uri": "https://localhost:8080/"
    },
    "id": "yfEb7PZdziWx",
    "outputId": "69c734a8-cfd3-4637-ab9e-f19c3422e5e5"
   },
   "outputs": [],
   "source": [
    "import sep_python.modes\n",
    "io=sep_python.modes.default_io\n",
    "vec=io.vector_from_storage(\"./vesuvio.H\")"
   ]
  },
  {
   "cell_type": "code",
   "execution_count": null,
   "metadata": {
    "colab": {
     "base_uri": "https://localhost:8080/"
    },
    "id": "cpCVysL2b5lm",
    "outputId": "d1865078-89f7-4995-b327-a9ff94332287"
   },
   "outputs": [],
   "source": [
    "x=vec.get_nd_array()\n",
    "print(type(x),x.dtype,vec.get_data_type())"
   ]
  },
  {
   "cell_type": "code",
   "execution_count": null,
   "metadata": {
    "colab": {
     "base_uri": "https://localhost:8080/",
     "height": 384
    },
    "id": "9OjSSPACzvIP",
    "outputId": "79383bc9-7e20-440c-b836-aec1542f5c0a"
   },
   "outputs": [],
   "source": [
    "import numpy as np\n",
    "import holoviews as hv\n",
    "hv.extension('bokeh','matplotlib')\n",
    "\n",
    "vec._hyper.axes=vec._hyper.axes[0:2]\n",
    "\n",
    "amp=io.get_reg_vector(np.absolute(vec.get_nd_array()),hyper=vec.get_hyper())\n",
    "phase=io.get_reg_vector(np.angle(vec.get_nd_array()),hyper=vec.get_hyper())\n",
    "\n",
    "print(amp.get_data_type(),vec.min(),vec.max())\n",
    "import sep_plot\n",
    "sep_plot.Grey(amp,bpclip=0,epclip=96).image()+sep_plot.Grey(phase).image()\n"
   ]
  },
  {
   "cell_type": "code",
   "execution_count": null,
   "metadata": {
    "colab": {
     "base_uri": "https://localhost:8080/",
     "height": 384
    },
    "id": "gTAFz39A7ZeB",
    "outputId": "2f195be8-c6fd-40d8-bf0a-fce6420dff47"
   },
   "outputs": [],
   "source": [
    "import holoviews as hv\n",
    "hv.extension('bokeh','matplotlib')\n",
    "real=io.get_reg_vector(np.real(vec.get_nd_array()),hyper=vec.get_hyper())\n",
    "imag=io.get_reg_vector(np.imag(vec.get_nd_array()),hyper=vec.get_hyper())\n",
    "\n",
    "print(real.min(),real.max(),imag.min(),imag.max())\n",
    "import sep_plot\n",
    "sep_plot.Grey(real,bpclip=0,epclip=100).image()+sep_plot.Grey(imag).image()"
   ]
  },
  {
   "cell_type": "code",
   "execution_count": null,
   "metadata": {
    "id": "EASuD3eL1PSK"
   },
   "outputs": [],
   "source": [
    "from genericSolver.pyOperator import Operator as Operator\n",
    "from sep_python.sep_vector import FloatVector as FloatVector\n",
    "class igrad2(Operator):\n",
    "\n",
    "  def __init__(self,mod,dat):\n",
    "\n",
    "    if not isinstance(mod,FloatVector) or not isinstance(dat,FloatVector):\n",
    "      raise Exception(\"model and data must be FloatVectors\")\n",
    "    \n",
    "    nmod=mod.get_hyper().get_ns()\n",
    "    ndat=dat.get_hyper().get_ns()\n",
    "    if len(nmod)!=2 or len(ndat)!=3:\n",
    "      raise Exception(\"Unacceptable dimension\")\n",
    "    \n",
    "    if nmod[0]!=ndat[0] or nmod[1]!=ndat[1] or ndat[2]!=2:\n",
    "      raise Exception(\"Model and data size don't work\")\n",
    "    \n",
    "    super().__init__(mod,dat)\n",
    "\n",
    "  def forward(self,add,model,data):\n",
    "    self.checkDomainRange(model,data)\n",
    "    if not add:\n",
    "      data.zero()\n",
    "    d=data.get_nd_array()\n",
    "    m=model.get_nd_array()\n",
    "\n",
    "    d[0,:,:-1]+=m[:,1:]-m[:,:-1]\n",
    "    d[1,:-1,:]+=m[1:,:]-m[:-1,:]\n",
    "\n",
    "  def adjoint(self,add,model,data):\n",
    "    self.checkDomainRange(model,data)\n",
    "    if not add:\n",
    "      model.zero()\n",
    "\n",
    "    d=data.get_nd_array()\n",
    "    m=model.get_nd_array() \n",
    "\n",
    "    m[:,1:]+=d[0,:,:-1]\n",
    "    m[:,:-1]-=d[0,:,:-1]\n",
    "    m[1:,:]+=d[1,:-1,:]\n",
    "    m[:-1,:]-=d[1,:-1,:]\n",
    "\n",
    "\n"
   ]
  },
  {
   "cell_type": "code",
   "execution_count": null,
   "metadata": {
    "colab": {
     "base_uri": "https://localhost:8080/"
    },
    "id": "W-nZ2edd2PqZ",
    "outputId": "4596b624-5afc-4c35-f81e-943d51453374"
   },
   "outputs": [],
   "source": [
    "from sep_python.hypercube import Hypercube\n",
    "def make_data(cdata):\n",
    "  ns=cdata.get_hyper().get_ns()\n",
    "  ns.append(2)\n",
    "  hyper=Hypercube.set_with_ns(ns)\n",
    "  dat=io.get_reg_vector(hyper,data_format=np.float32)\n",
    "  dat.zero()\n",
    "  cin=cdata.get_nd_array()\n",
    "  d=dat.get_nd_array()\n",
    "  print(d.shape,hyper.get_ns())\n",
    "\n",
    "  a=cin[1:-1,1:-1]\n",
    "  c=cin[1:-1,2:]\n",
    "  b=cin[2:,1:-1]\n",
    "\n",
    "  d[0,1:-1,1:-1]=np.imag(np.log(c*np.conjugate(a)))\n",
    "  d[1,1:-1,1:-1]=np.imag(np.log(b*np.conjugate(a)))\n",
    "  return dat\n",
    "\n",
    "\n",
    "data=make_data(vec)\n"
   ]
  },
  {
   "cell_type": "code",
   "execution_count": null,
   "metadata": {
    "id": "4HKOZ6XvnLet"
   },
   "outputs": [],
   "source": []
  },
  {
   "cell_type": "code",
   "execution_count": null,
   "metadata": {
    "id": "zH8Ne0JRcdjR"
   },
   "outputs": [],
   "source": []
  },
  {
   "cell_type": "code",
   "execution_count": null,
   "metadata": {
    "colab": {
     "base_uri": "https://localhost:8080/"
    },
    "id": "9onU6NfBrDc8",
    "outputId": "54492bce-4edb-42e0-b599-009e079792f2"
   },
   "outputs": [],
   "source": [
    "from genericSolver.pyProblem import ProblemL2Linear\n",
    "print(data.min(),data.max())\n",
    "\n",
    "model=io.get_reg_vector(vec.get_hyper(),dataFromat=\"float32\")\n",
    "lop=igrad2(model,data)\n",
    "lop.dotTest(verbose=True)\n",
    "\n"
   ]
  },
  {
   "cell_type": "code",
   "execution_count": null,
   "metadata": {
    "colab": {
     "base_uri": "https://localhost:8080/"
    },
    "id": "tx_ctg0MuizD",
    "outputId": "7e76bf4f-722b-4301-8636-b828b7c70f81"
   },
   "outputs": [],
   "source": [
    "x=model.clone()\n",
    "print(data.min(),data.max())"
   ]
  },
  {
   "cell_type": "code",
   "execution_count": null,
   "metadata": {
    "colab": {
     "base_uri": "https://localhost:8080/"
    },
    "id": "nLdqLKvAtaul",
    "outputId": "414328c4-934d-4f65-8d52-87876de81cca"
   },
   "outputs": [],
   "source": [
    "print(model.arr.max())"
   ]
  },
  {
   "cell_type": "code",
   "execution_count": null,
   "metadata": {
    "colab": {
     "base_uri": "https://localhost:8080/"
    },
    "id": "d42qwvql3W1v",
    "outputId": "3f2267f8-3d3d-4e12-bc0d-ed3cb943fe26"
   },
   "outputs": [],
   "source": [
    "%xmode verbose\n",
    "from genericSolver.pyLinearSolver import LCGsolver\n",
    "from genericSolver.pyStopper import BasicStopper \n",
    "model.zero()\n",
    "problem=ProblemL2Linear(model,data,lop)\n",
    "stopper=BasicStopper(niter=500)\n",
    "solver=LCGsolver(stopper)\n",
    "solver.setDefaults(save_obj=True,save_res=True,iter_sampling=5)\n",
    "problem.data.dot(problem.data)\n",
    "solver.run(problem,verbose=True)"
   ]
  },
  {
   "cell_type": "code",
   "execution_count": null,
   "metadata": {
    "colab": {
     "base_uri": "https://localhost:8080/",
     "height": 347
    },
    "id": "xCGUzVBo3gHj",
    "outputId": "ef240fd6-fcb2-4a25-bff5-5dfa2069fcd7"
   },
   "outputs": [],
   "source": [
    "import holoviews as hv\n",
    "hv.extension('bokeh','matplotlib')\n",
    "sep_plot.Grey(problem.res,bpclip=5,epclip=95).image()"
   ]
  },
  {
   "cell_type": "code",
   "execution_count": null,
   "metadata": {
    "colab": {
     "base_uri": "https://localhost:8080/",
     "height": 347
    },
    "id": "tf6gTBuOLLhP",
    "outputId": "662c11df-f988-427d-fa28-62aee458fc84"
   },
   "outputs": [],
   "source": [
    "import holoviews as hv\n",
    "hv.extension('bokeh','matplotlib')\n",
    "sep_plot.Grey(problem.model,bpclip=0,epclip=100).image()"
   ]
  },
  {
   "cell_type": "code",
   "execution_count": null,
   "metadata": {
    "colab": {
     "base_uri": "https://localhost:8080/",
     "height": 282
    },
    "id": "imzDY6Gnnh84",
    "outputId": "1c166820-147d-41f7-836f-769e24a0f3ec"
   },
   "outputs": [],
   "source": [
    "import matplotlib.pyplot as plt\n",
    "\n",
    "plt.plot(solver.obj[0:])"
   ]
  },
  {
   "cell_type": "code",
   "execution_count": null,
   "metadata": {
    "colab": {
     "base_uri": "https://localhost:8080/",
     "height": 347
    },
    "id": "WpaiKL0fqTh3",
    "outputId": "a703466c-81cc-4778-981c-f84f2b225b35"
   },
   "outputs": [],
   "source": [
    "import holoviews as hv\n",
    "hv.extension('bokeh','matplotlib')\n",
    "sep_plot.Grey(solver.res[0],bpclip=5,epclip=95).image()"
   ]
  },
  {
   "cell_type": "code",
   "execution_count": null,
   "metadata": {
    "id": "S4uq4W4T823N"
   },
   "outputs": [],
   "source": []
  },
  {
   "cell_type": "code",
   "execution_count": null,
   "metadata": {
    "colab": {
     "base_uri": "https://localhost:8080/",
     "height": 367
    },
    "id": "DhlX1ZDlrgnG",
    "outputId": "c17e109f-0d50-4157-8dcd-b98a7908ab7e"
   },
   "outputs": [],
   "source": [
    "import scipy.signal\n",
    "import holoviews as hv\n",
    "hv.extension('bokeh','matplotlib')\n",
    "real_new=real.clone()\n",
    "imag_new=imag.clone()\n",
    "real_new.get_nd_array()[:]=scipy.signal.medfilt2d(real.get_nd_array(), kernel_size=7)\n",
    "imag_new.get_nd_array()[:]=scipy.signal.medfilt2d(imag.get_nd_array(), kernel_size=7)\n",
    "\n",
    "sep_plot.Grey(real_new,bpclip=0,epclip=100).image()+sep_plot.Grey(imag_new).image()"
   ]
  },
  {
   "cell_type": "code",
   "execution_count": null,
   "metadata": {
    "colab": {
     "base_uri": "https://localhost:8080/",
     "height": 367
    },
    "id": "iCCr0XYr8wMg",
    "outputId": "05282202-95e5-4c25-ecdf-fcbb3fc848f1"
   },
   "outputs": [],
   "source": [
    "\n",
    "import holoviews as hv\n",
    "hv.extension('bokeh','matplotlib')\n",
    "complexD=real_new.get_nd_array()+imag_new.get_nd_array()*1.j\n",
    "vec_new=io.get_reg_vector(complexD,hyper=vec.get_hyper())\n",
    "amp_new=io.get_reg_vector(np.absolute(complexD),hyper=vec.get_hyper())\n",
    "phase_new=io.get_reg_vector(np.angle(complexD),hyper=vec.get_hyper())\n",
    "phaseD=phase_new.clone()\n",
    "phaseD.scale_add(phase,sc2=-1.)\n",
    "sep_plot.Grey(amp_new,bpclip=3,epclip=97).image()+sep_plot.Grey(phase_new).image()\n"
   ]
  },
  {
   "cell_type": "code",
   "execution_count": null,
   "metadata": {
    "colab": {
     "base_uri": "https://localhost:8080/"
    },
    "id": "DwTsDkB_9p4-",
    "outputId": "2f289dd2-25e0-408c-dcfd-08691c1a870d"
   },
   "outputs": [],
   "source": [
    "data_new=make_data(vec_new)\n",
    "model.zero()\n",
    "problem=ProblemL2Linear(model,data_new,lop)\n",
    "stopper=BasicStopper(niter=500)\n",
    "solver=LCGsolver(stopper)\n",
    "solver.setDefaults(save_obj=True,save_res=True,iter_sampling=5)\n",
    "problem.data.dot(problem.data)\n",
    "solver.run(problem,verbose=True)\n"
   ]
  },
  {
   "cell_type": "code",
   "execution_count": null,
   "metadata": {
    "colab": {
     "base_uri": "https://localhost:8080/",
     "height": 282
    },
    "id": "1XPah0QP_jEo",
    "outputId": "e7cfdfca-a0d7-4ee8-fa05-517162b68d73"
   },
   "outputs": [],
   "source": [
    "import matplotlib.pyplot as plt\n",
    "\n",
    "plt.plot(solver.obj[0:])"
   ]
  },
  {
   "cell_type": "code",
   "execution_count": null,
   "metadata": {
    "colab": {
     "base_uri": "https://localhost:8080/",
     "height": 347
    },
    "id": "k8xGixub_7PC",
    "outputId": "c9720651-2f02-4f3c-959a-d8ebf0e4f359"
   },
   "outputs": [],
   "source": [
    "import holoviews as hv\n",
    "hv.extension('bokeh','matplotlib')\n",
    "sep_plot.Grey(problem.res,bpclip=0,epclip=100).image()"
   ]
  },
  {
   "cell_type": "code",
   "execution_count": null,
   "metadata": {
    "colab": {
     "base_uri": "https://localhost:8080/",
     "height": 347
    },
    "id": "p5UUv_W8ADOk",
    "outputId": "5a91298c-6e3e-45e2-e418-f24f91656977"
   },
   "outputs": [],
   "source": [
    "import holoviews as hv\n",
    "hv.extension('bokeh','matplotlib')\n",
    "sep_plot.Grey(problem.model,bpclip=0,epclip=100).image()"
   ]
  },
  {
   "cell_type": "code",
   "execution_count": null,
   "metadata": {
    "id": "HQUCN2RZAR2E"
   },
   "outputs": [],
   "source": []
  }
 ],
 "metadata": {
  "colab": {
   "authorship_tag": "ABX9TyOHmrmKjm6LyeTsQv/rt4kJ",
   "include_colab_link": true,
   "provenance": []
  },
  "kernelspec": {
   "display_name": "Python 3 (ipykernel)",
   "language": "python",
   "name": "python3"
  },
  "language_info": {
   "codemirror_mode": {
    "name": "ipython",
    "version": 3
   },
   "file_extension": ".py",
   "mimetype": "text/x-python",
   "name": "python",
   "nbconvert_exporter": "python",
   "pygments_lexer": "ipython3",
   "version": "3.9.7"
  }
 },
 "nbformat": 4,
 "nbformat_minor": 4
}
