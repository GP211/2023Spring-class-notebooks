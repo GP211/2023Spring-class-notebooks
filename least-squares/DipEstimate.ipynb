{
 "cells": [
  {
   "cell_type": "code",
   "execution_count": 1,
   "metadata": {},
   "outputs": [
    {
     "name": "stdout",
     "output_type": "stream",
     "text": [
      "WARNING! DATAPATH not found. The folder /tmp will be used to write binary files\n"
     ]
    }
   ],
   "source": [
    "import pyOperator\n",
    "class triangleOp1D(pyOperator.Operator):\n",
    "    def __init__(self,mod,dat,nr):\n",
    "        self.setDomainRange(mod,dat)\n",
    "        self.nr=nr\n",
    "        self.val=[]\n",
    "        tot=0\n",
    "        for i in range(2*self.nr+1):\n",
    "            if i <= self.nr:\n",
    "                self.val.append(i+1)\n",
    "            else:\n",
    "                self.val.append(i-self.nr)\n",
    "            tot=self.val[i]+tot\n",
    "            print(i,self.val[i],tot)\n",
    "        for i in range(len(self.val)):\n",
    "            self.val[i]=self.val[i]/tot\n",
    "        print(self.val,\"XssXX\")\n",
    "    def forward(self,add,mod,dat):\n",
    "        self.checkDomainRange(mod,dat)\n",
    "        m=mod.getNdArray()\n",
    "        d=dat.getNdArray()\n",
    "        if not add:\n",
    "            dat.zero()\n",
    "        for i in range(d.shape[0]):\n",
    "            for j in range(len(self.val)):\n",
    "                k=i-self.nr+j\n",
    "                if k < 0: k=0\n",
    "                if k >= d.shape[0]: k=d.shape[0]-1\n",
    "                d[i]+=self.val[j]*m[k]\n",
    "\n",
    "    def adjoint(self,add,mod,dat):\n",
    "        self.checkDomainRange(mod,dat)\n",
    "        m=mod.getNdArray()\n",
    "        d=dat.getNdArray()\n",
    "        if not add:\n",
    "            mod.zero()\n",
    "        for i in range(d.shape[0]):\n",
    "            for j in range(len(self.val)):\n",
    "                k=i-self.nr+j\n",
    "                if k < 0: k=0\n",
    "                if k >= d.shape[0]: k=d.shape[0]-1\n",
    "                m[k]+=self.val[j]*d[i]\n"
   ]
  },
  {
   "cell_type": "code",
   "execution_count": 2,
   "metadata": {},
   "outputs": [
    {
     "ename": "SyntaxError",
     "evalue": "invalid syntax (2698571281.py, line 1)",
     "output_type": "error",
     "traceback": [
      "\u001b[0;36m  File \u001b[0;32m\"/tmp/ipykernel_82/2698571281.py\"\u001b[0;36m, line \u001b[0;32m1\u001b[0m\n\u001b[0;31m    national p\u001b[0m\n\u001b[0m             ^\u001b[0m\n\u001b[0;31mSyntaxError\u001b[0m\u001b[0;31m:\u001b[0m invalid syntax\n"
     ]
    }
   ],
   "source": [
    "national p"
   ]
  },
  {
   "cell_type": "code",
   "execution_count": 3,
   "metadata": {},
   "outputs": [],
   "source": [
    "def puck2d(dat):\n",
    "    pp=np.copy(dat)\n",
    "    pp.fill(0.)\n",
    "    dx=wavekill(1.,pp,dat) # derviative axis 2\n",
    "    pp.fill(1.)\n",
    "    dt=wavekill(0.,pp,dat) #derivative axis 1\n",
    "    dtdx=np.copy()\n",
    "    dtdt=np.copy()\n",
    "    dxdx=np.copy()\n",
    "    for i2 in range(dx.shape[1]):\n",
    "        for i1 in range(dx.shape[1]):\n",
    "            dtdt[i2][i1]=dt[i2][i1]*dt[i2][i1]\n",
    "            dtdx[i2][i1]=dt[i2][i1]*dx[i2][i1]\n",
    "            dxdx[i2][i1]=dx[i2][i1]*dx[i2][i1]\n",
    "       "
   ]
  },
  {
   "cell_type": "code",
   "execution_count": 4,
   "metadata": {},
   "outputs": [
    {
     "ename": "ImportError",
     "evalue": "generic_type: type \"longTensor1D\" referenced unknown base type \"SEP::longHyper\"",
     "output_type": "error",
     "traceback": [
      "\u001b[0;31m---------------------------------------------------------------------------\u001b[0m",
      "\u001b[0;31mImportError\u001b[0m                               Traceback (most recent call last)",
      "\u001b[0;32m/tmp/ipykernel_82/3853816412.py\u001b[0m in \u001b[0;36m<module>\u001b[0;34m\u001b[0m\n\u001b[0;32m----> 1\u001b[0;31m \u001b[0;32mimport\u001b[0m \u001b[0mSepVector\u001b[0m\u001b[0;34m\u001b[0m\u001b[0;34m\u001b[0m\u001b[0m\n\u001b[0m\u001b[1;32m      2\u001b[0m \u001b[0;32mimport\u001b[0m \u001b[0mHypercube\u001b[0m\u001b[0;34m\u001b[0m\u001b[0;34m\u001b[0m\u001b[0m\n\u001b[1;32m      3\u001b[0m \u001b[0mmod\u001b[0m\u001b[0;34m=\u001b[0m\u001b[0mSepVector\u001b[0m\u001b[0;34m.\u001b[0m\u001b[0mgetSepVector\u001b[0m\u001b[0;34m(\u001b[0m\u001b[0mHypercube\u001b[0m\u001b[0;34m.\u001b[0m\u001b[0mhypercube\u001b[0m\u001b[0;34m(\u001b[0m\u001b[0mns\u001b[0m\u001b[0;34m=\u001b[0m\u001b[0;34m[\u001b[0m\u001b[0;36m5\u001b[0m\u001b[0;34m]\u001b[0m\u001b[0;34m)\u001b[0m\u001b[0;34m)\u001b[0m\u001b[0;34m\u001b[0m\u001b[0;34m\u001b[0m\u001b[0m\n\u001b[1;32m      4\u001b[0m \u001b[0mdat\u001b[0m\u001b[0;34m=\u001b[0m\u001b[0mmod\u001b[0m\u001b[0;34m.\u001b[0m\u001b[0mclone\u001b[0m\u001b[0;34m(\u001b[0m\u001b[0;34m)\u001b[0m\u001b[0;34m\u001b[0m\u001b[0;34m\u001b[0m\u001b[0m\n\u001b[1;32m      5\u001b[0m \u001b[0mop\u001b[0m\u001b[0;34m=\u001b[0m\u001b[0mtriangleOp1D\u001b[0m\u001b[0;34m(\u001b[0m\u001b[0mmod\u001b[0m\u001b[0;34m,\u001b[0m\u001b[0mdat\u001b[0m\u001b[0;34m,\u001b[0m\u001b[0;36m1\u001b[0m\u001b[0;34m)\u001b[0m\u001b[0;34m\u001b[0m\u001b[0;34m\u001b[0m\u001b[0m\n",
      "\u001b[0;32m/opt/SEP/lib/python3.9/SepVector.py\u001b[0m in \u001b[0;36m<module>\u001b[0;34m\u001b[0m\n\u001b[1;32m      1\u001b[0m \u001b[0;32mimport\u001b[0m \u001b[0mpyHypercube\u001b[0m\u001b[0;34m\u001b[0m\u001b[0;34m\u001b[0m\u001b[0m\n\u001b[0;32m----> 2\u001b[0;31m \u001b[0;32mimport\u001b[0m \u001b[0mpySepVector\u001b[0m\u001b[0;34m\u001b[0m\u001b[0;34m\u001b[0m\u001b[0m\n\u001b[0m\u001b[1;32m      3\u001b[0m \u001b[0;32mimport\u001b[0m \u001b[0mHypercube\u001b[0m\u001b[0;34m\u001b[0m\u001b[0;34m\u001b[0m\u001b[0m\n\u001b[1;32m      4\u001b[0m \u001b[0;32mimport\u001b[0m \u001b[0mnumpy\u001b[0m\u001b[0;34m\u001b[0m\u001b[0;34m\u001b[0m\u001b[0m\n\u001b[1;32m      5\u001b[0m \u001b[0;32mimport\u001b[0m \u001b[0mpyVector\u001b[0m\u001b[0;34m\u001b[0m\u001b[0;34m\u001b[0m\u001b[0m\n",
      "\u001b[0;31mImportError\u001b[0m: generic_type: type \"longTensor1D\" referenced unknown base type \"SEP::longHyper\""
     ]
    }
   ],
   "source": [
    "import SepVector\n",
    "import Hypercube\n",
    "mod=SepVector.getSepVector(Hypercube.hypercube(ns=[5]))\n",
    "dat=mod.clone()\n",
    "op=triangleOp1D(mod,dat,1)\n"
   ]
  },
  {
   "cell_type": "code",
   "execution_count": null,
   "metadata": {},
   "outputs": [],
   "source": []
  },
  {
   "cell_type": "code",
   "execution_count": null,
   "metadata": {},
   "outputs": [],
   "source": []
  }
 ],
 "metadata": {
  "kernelspec": {
   "display_name": "Python 3 (ipykernel)",
   "language": "python",
   "name": "python3"
  },
  "language_info": {
   "codemirror_mode": {
    "name": "ipython",
    "version": 3
   },
   "file_extension": ".py",
   "mimetype": "text/x-python",
   "name": "python",
   "nbconvert_exporter": "python",
   "pygments_lexer": "ipython3",
   "version": "3.9.7"
  }
 },
 "nbformat": 4,
 "nbformat_minor": 2
}
