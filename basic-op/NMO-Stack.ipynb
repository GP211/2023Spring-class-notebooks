{
 "cells": [
  {
   "cell_type": "code",
   "execution_count": null,
   "metadata": {},
   "outputs": [],
   "source": [
    "import pyOperator\n",
    "\n",
    "class simpleChain(pyOperator.Operator):\n",
    "    \"\"\" d = Op1 op2 m\"\"\"\n",
    "    def __init__(self,op1,op2):\n",
    "        self._op1=op1\n",
    "        self._op2=op2\n",
    "        if not self._op1.getDomain().checkSame(self._op2.getRange()):\n",
    "            raise Exception(\"domain of op1 must be the same space range of op 2\")\n",
    "        super().setDomainRange(self._op2.getDomain(),self._op1.getRange())\n",
    "        self._tmp=self._op1.getDomain().clone()\n",
    "    \n",
    "    def forward(self,add,mod,dat):\n",
    "        self._op2.forward(False,mod,self._tmp)\n",
    "        self._op1.forward(add,self._tmp,dat)\n",
    "    \n",
    "    def adjoint(self,add,mod,dat):\n",
    "        self._op1.adjoint(False,self._tmp,dat)\n",
    "        self._op2.adjoint(add,mod,self._tmp)\n"
   ]
  },
  {
   "cell_type": "code",
   "execution_count": null,
   "metadata": {},
   "outputs": [],
   "source": [
    "import giee\n",
    "import Hypercube\n",
    "import Stack\n",
    "import Dots\n",
    "import Nmo\n",
    "import holoviews as hv\n",
    "import pyProblem\n",
    "import pyStopper\n",
    "import pyLinearSolver\n",
    "\n",
    "\n",
    "\n",
    "\n",
    "mod=giee.vector(Hypercube.hypercube(ns=[128],os=[.0],ds=[.032]))\n",
    "m=mod.getNdArray()\n",
    "m[15:23]=1\n",
    "m[75:83]=1\n",
    "plotm=Dots.dots(mod,width=800,height=100,title=\"Model\",dots=False,curve=True,yaxis=None,xaxis=None)\n",
    "\n",
    "\n",
    "data=giee.vector(Hypercube.hypercube(ns=[128,11],os=[0,0],ds=[.032,.6]))\n",
    "tmp=data.clone()\n",
    "stackOp=Stack.stack_2D_2(mod,tmp)\n",
    "nmoOp=Nmo.nmo2D(1.5,tmp,data)\n",
    "\n",
    "\n",
    "comboOp=simpleChain(nmoOp,stackOp)\n",
    "comboOp.forward(False,mod,data)\n",
    "mod.zero()\n",
    "\n",
    "problemNmoStack=pyProblem.ProblemL2Linear(mod,data,comboOp)\n",
    "problemStop=pyStopper.BasicStopper(niter=11)\n",
    "\n",
    "solve=pyLinearSolver.LCGsolver(problemStop)\n",
    "solve.setDefaults(save_model=True)\n",
    "solve.run(problemNmoStack)\n",
    "\n",
    "\n",
    "print(\"where\")\n",
    "plotd=Dots.dots(data,width=800,height=600,title=\"Synthetic Data\",dots=False,curve=True,xaxis=None,ylim=(0,6))\n",
    "ans=[]\n",
    "images=[]\n",
    "for i in range(1,len(solve.modelSet.vecSet),2):\n",
    "    ans.append(Dots.dots(solve.modelSet.vecSet[i],width=800,height=100,title=\"Iter \"+str(i),dots=False,curve=True,yaxis=None))\n",
    "    images.append(ans[len(ans)-1].image())\n",
    "\n",
    "\n",
    "\n",
    "\n",
    "hv.Layout(plotm.image()+plotd.image()+images[0]+images[1]+images[2]+images[3]).cols(1)\n",
    "\n"
   ]
  },
  {
   "cell_type": "code",
   "execution_count": null,
   "metadata": {},
   "outputs": [],
   "source": []
  },
  {
   "cell_type": "code",
   "execution_count": null,
   "metadata": {},
   "outputs": [],
   "source": []
  }
 ],
 "metadata": {
  "kernelspec": {
   "display_name": "Python 3 (ipykernel)",
   "language": "python",
   "name": "python3"
  },
  "language_info": {
   "codemirror_mode": {
    "name": "ipython",
    "version": 3
   },
   "file_extension": ".py",
   "mimetype": "text/x-python",
   "name": "python",
   "nbconvert_exporter": "python",
   "pygments_lexer": "ipython3",
   "version": "3.9.9"
  }
 },
 "nbformat": 4,
 "nbformat_minor": 4
}
