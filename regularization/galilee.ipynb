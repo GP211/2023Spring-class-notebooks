{
 "cells": [
  {
   "cell_type": "markdown",
   "metadata": {
    "colab": {
     "base_uri": "https://localhost:8080/"
    },
    "id": "w5Xxfi6ze4hY",
    "outputId": "9095109c-55ff-45b8-b4d4-f5f518827d64",
    "tags": []
   },
   "source": [
    "<a href=\"https://colab.research.google.com/github/rgclapp007/gp211-class-notebooks/blob/main/regularization/galilee.ipynb\" target=\"_parent\"><img src=\"https://colab.research.google.com/assets/colab-badge.svg\" alt=\"Open In Colab\"/></a>"
   ]
  },
  {
   "cell_type": "code",
   "execution_count": null,
   "metadata": {
    "colab": {
     "base_uri": "https://localhost:8080/"
    },
    "id": "w5Xxfi6ze4hY",
    "outputId": "9095109c-55ff-45b8-b4d4-f5f518827d64",
    "tags": []
   },
   "outputs": [],
   "source": [
    "!python -m pip install \"sep_plot @ git+http://zapad.stanford.edu/bob/pySepPlot.git@2bffacb9fb36963339a0834c2b04a0aedff91db4\""
   ]
  },
  {
   "cell_type": "code",
   "execution_count": null,
   "metadata": {},
   "outputs": [],
   "source": []
  },
  {
   "cell_type": "code",
   "execution_count": null,
   "metadata": {
    "colab": {
     "base_uri": "https://localhost:8080/"
    },
    "id": "N7POBAGogQd1",
    "outputId": "4f966bbd-fe30-45ed-9981-163696732003",
    "tags": []
   },
   "outputs": [],
   "source": [
    "!wget https://raw.githubusercontent.com/rgclapp007/gp211-class-notebooks/main/data/galilee.H"
   ]
  },
  {
   "cell_type": "code",
   "execution_count": null,
   "metadata": {
    "id": "UwnfWDICw6NM"
   },
   "outputs": [],
   "source": []
  },
  {
   "cell_type": "code",
   "execution_count": null,
   "metadata": {
    "colab": {
     "base_uri": "https://localhost:8080/"
    },
    "id": "3_dkArfHgZAj",
    "outputId": "ff976d6a-99b8-4292-f262-80f32e027d4b",
    "tags": []
   },
   "outputs": [],
   "source": [
    "import sep_python.modes\n",
    "import numpy as np\n",
    "from sep_python.hypercube import Hypercube\n",
    "from sep_python.sep_vector import FloatVector\n",
    "io=sep_python.modes.default_io\n",
    "vec=io.vector_from_storage(\"./galilee.H\")\n",
    "\n",
    "\n"
   ]
  },
  {
   "cell_type": "code",
   "execution_count": null,
   "metadata": {
    "id": "apbO07ktgdRC"
   },
   "outputs": [],
   "source": [
    "\n",
    "from genericSolver.pyOperator import Operator\n",
    "import numba\n",
    "\n",
    "@numba.njit(parallel=True)\n",
    "def find_outside(n1,n2,ip1,ip2,f1,f2,e1,e2):\n",
    "  for i in numba.prange(ip1.shape[0]):\n",
    "    if ip1[i] < 0 or ip2[i] <0 or ip1[i] >=n1-1 or\\\n",
    "      ip2[i] <0 or ip2[i] >=n2-1:\n",
    "      f1[i]=0\n",
    "      f2[i]=0\n",
    "      e1[i]=0\n",
    "      e2[i]=0\n",
    "      ip1[i]=0\n",
    "      ip2[i]=0\n",
    "\n",
    "\n",
    "\n",
    "class linear_interp_2d(Operator):\n",
    "  def __init__(self,model:FloatVector,data:FloatVector,x,y):\n",
    "    if not isinstance(model,FloatVector) or not isinstance(data,FloatVector):\n",
    "      raise Exception(\"wrong input\")\n",
    "    axes=model.get_hyper().axes\n",
    "    if len(axes)!=2:\n",
    "      raise Exception(\"expecting model to be 2-D\")\n",
    "\n",
    "    self._f1=(x-axes[0].o)/axes[0].d\n",
    "    self._f2=(y-axes[1].o)/axes[1].d\n",
    "    self._ipos2=np.int_(self._f2)\n",
    "    self._ipos1=np.int_(self._f1)\n",
    "    print(\"range i see \",self._ipos1.min(),self._ipos1.max(),self._ipos2.min(),self._ipos2.max())\n",
    "    self._f1-=self._ipos1\n",
    "    self._f2-=self._ipos2\n",
    "    self._e1=1.-self._f1\n",
    "    self._e2=1.-self._f2\n",
    "    find_outside(axes[0].n,axes[1].n,self._ipos1,self._ipos2,self._f1,\\\n",
    "        self._f2,self._e1,self._e2)\n",
    "    super().__init__(model,data)\n",
    "\n",
    "  def forward(self,add,model,data):\n",
    "    self.checkDomainRange(model,data)\n",
    "    if not add:\n",
    "      data.zero()\n",
    "    d=data.get_nd_array()\n",
    "    m=model.get_nd_array()\n",
    "    forward_it(m,d,self._ipos1,self._ipos2,self._f1,self._f2,self._e1,self._e2)\n",
    "    \n",
    "  def adjoint(self,add,model,data):\n",
    "    self.checkDomainRange(model,data)\n",
    "    if not add:\n",
    "      model.zero()\n",
    "    m=model.get_nd_array()\n",
    "    d=data.get_nd_array()\n",
    "    adjoint_it(m,d,self._ipos1,self._ipos2,self._f1,self._f2,self._e1,self._e2)\n",
    "\n",
    "  \n",
    "\n",
    "@numba.njit()\n",
    "def forward_it(m,d,ipos1,ipos2,f1,f2,e1,e2):\n",
    "\n",
    "  for i in range(ipos1.shape[0]):\n",
    "   d[i]+=m[ipos2[i],ipos1[i]]*f1[i]*f2[i]+\\\n",
    "      m[ipos2[i]+1,ipos1[i]]*f1[i]*e2[i]+\\\n",
    "      m[ipos2[i],ipos1[i]+1]*e1[i]*f2[i]+\\\n",
    "      m[ipos2[i]+1,ipos1[i]+1]*e1[i]*e2[i]\n",
    "@numba.njit()\n",
    "def adjoint_it(m,d,ipos1,ipos2,f1,f2,e1,e2):\n",
    "\n",
    "  for i in range(ipos1.shape[0]):\n",
    "   m[ipos2[i],ipos1[i]]+=d[i]*f1[i]*f2[i]\n",
    "   m[ipos2[i]+1,ipos1[i]]+=d[i]*e2[i]*f1[i]\n",
    "   m[ipos2[i],ipos1[i]+1]+=d[i]*e1[i]*f2[i]\n",
    "   m[ipos2[i]+1,ipos1[i]+1]+=d[i]*e1[i]*e2[i]\n"
   ]
  },
  {
   "cell_type": "code",
   "execution_count": null,
   "metadata": {
    "colab": {
     "base_uri": "https://localhost:8080/"
    },
    "id": "Cn90whOegeZr",
    "outputId": "84c8512f-e539-4b5c-a3ba-b652437eb440"
   },
   "outputs": [],
   "source": []
  },
  {
   "cell_type": "code",
   "execution_count": null,
   "metadata": {
    "id": "C_QqTtusw9aF"
   },
   "outputs": [],
   "source": []
  },
  {
   "cell_type": "code",
   "execution_count": null,
   "metadata": {
    "colab": {
     "base_uri": "https://localhost:8080/"
    },
    "id": "QScy8YooADSy",
    "outputId": "abe75954-81c0-4a70-f8ae-4ee62e854bf3"
   },
   "outputs": [],
   "source": [
    "print(type(vec))\n",
    "array=vec.get_nd_array()\n",
    "x,y,z=array[:,0],array[:,1],array[:,2]\n",
    "xar,yar,zar=array[:,0],array[:,1],array[:,2]\n",
    "\n",
    "print(x.min(),x.max(),y.min(),y.max())\n",
    "print((212.8-198.7)/.05,(255.552-234.7)/.05)"
   ]
  },
  {
   "cell_type": "code",
   "execution_count": null,
   "metadata": {
    "colab": {
     "base_uri": "https://localhost:8080/"
    },
    "id": "uu9IDnqnAqdR",
    "outputId": "a688c84f-3de7-4848-e2ac-b2d800777db5"
   },
   "outputs": [],
   "source": [
    "import sep_python.sep_vector as vec_class\n",
    "model=vec_class.get_sep_vector(ns=[284,418],os=[198.7,234.7],ds=[.05,.05])\n",
    "data=vec_class.get_sep_vector(z)\n",
    "oper=linear_interp_2d(model,data,x,y)\n",
    "oper.dotTest(verbose=True)"
   ]
  },
  {
   "cell_type": "code",
   "execution_count": null,
   "metadata": {
    "colab": {
     "base_uri": "https://localhost:8080/",
     "height": 42
    },
    "id": "qJGeNf5QBR_8",
    "outputId": "4b845698-92f8-4dd0-9e59-5d8df482861d"
   },
   "outputs": [],
   "source": [
    "from genericSolver.pyProblem import ProblemL2Linear\n",
    "from genericSolver.pyLinearSolver import LCGsolver\n",
    "from genericSolver.pyStopper import BasicStopper \n",
    "from sep_plot import Grey\n",
    "import holoviews as hv\n",
    "hv.extension('bokeh','matplotlib')\n",
    "\n",
    "prob=ProblemL2Linear(model,data,oper)\n",
    "stop=BasicStopper(niter=10000)\n",
    "solve=LCGsolver(stop)\n",
    "solve.run(prob)\n",
    "\n"
   ]
  },
  {
   "cell_type": "markdown",
   "metadata": {
    "id": "7ks7kM49Wqie"
   },
   "source": [
    "Check out the ranges of the data"
   ]
  },
  {
   "cell_type": "code",
   "execution_count": null,
   "metadata": {
    "colab": {
     "base_uri": "https://localhost:8080/"
    },
    "id": "hPvvCLOEWxey",
    "outputId": "3ff68e77-93a6-49e3-de1f-d00561177d78"
   },
   "outputs": [],
   "source": [
    "print(prob.data.min(),prob.data.max(),\"data range\")\n",
    "print(prob.model.min(),prob.model.max(),\"model range\")"
   ]
  },
  {
   "cell_type": "markdown",
   "metadata": {
    "id": "_X-9BLffW7io"
   },
   "source": [
    "The solution blew up. The reason is that the inversion problem is putting very large value next to very small values trying to explain the inconsistency in the data."
   ]
  },
  {
   "cell_type": "code",
   "execution_count": null,
   "metadata": {
    "id": "VXz7J5LRXBlR"
   },
   "outputs": [],
   "source": []
  },
  {
   "cell_type": "code",
   "execution_count": null,
   "metadata": {
    "colab": {
     "base_uri": "https://localhost:8080/",
     "height": 364
    },
    "id": "VMFBBpanGfwp",
    "outputId": "3a05fc92-3f64-43db-cdf1-10f0e7b443c9"
   },
   "outputs": [],
   "source": [
    "import holoviews as hv\n",
    "hv.extension('bokeh','matplotlib')\n",
    "print(prob.data.min(),prob.data.max())\n",
    "Grey(prob.model,transp=False,bclip=-250,eclip=-210,invert_yaxis=False)"
   ]
  },
  {
   "cell_type": "code",
   "execution_count": null,
   "metadata": {
    "colab": {
     "base_uri": "https://localhost:8080/"
    },
    "id": "nUL8QupTK9mu",
    "outputId": "f920c599-f0f2-442a-ac4d-b519286c1d40"
   },
   "outputs": [],
   "source": [
    "c=prob.model.get_nd_array()\n",
    "c.shape\n",
    "print(prob.model.get_hyper(),c.shape)"
   ]
  },
  {
   "cell_type": "code",
   "execution_count": null,
   "metadata": {
    "id": "ap5q8tLmLL78"
   },
   "outputs": [],
   "source": [
    "class igrad2(Operator):\n",
    "\n",
    "  def __init__(self,mod,dat):\n",
    "\n",
    "    if not isinstance(mod,FloatVector) or not isinstance(dat,FloatVector):\n",
    "      raise Exception(\"model and data must be FloatVectors\")\n",
    "    \n",
    "    nmod=mod.get_hyper().get_ns()\n",
    "    ndat=dat.get_hyper().get_ns()\n",
    "    if len(nmod)!=2 or len(ndat)!=3:\n",
    "      raise Exception(\"Unacceptable dimension\")\n",
    "    \n",
    "    if nmod[0]!=ndat[0] or nmod[1]!=ndat[1] or ndat[2]!=2:\n",
    "      raise Exception(\"Model and data size don't work\")\n",
    "    \n",
    "    super().__init__(mod,dat)\n",
    "\n",
    "  def forward(self,add,model,data):\n",
    "    self.checkDomainRange(model,data)\n",
    "    if not add:\n",
    "      data.zero()\n",
    "    d=data.get_nd_array()\n",
    "    m=model.get_nd_array()\n",
    "\n",
    "    d[0,:,:-1]+=m[:,1:]-m[:,:-1]\n",
    "    d[1,:-1,:]+=m[1:,:]-m[:-1,:]\n",
    "\n",
    "  def adjoint(self,add,model,data):\n",
    "    self.checkDomainRange(model,data)\n",
    "    if not add:\n",
    "      model.zero()\n",
    "\n",
    "    d=data.get_nd_array()\n",
    "    m=model.get_nd_array() \n",
    "\n",
    "    m[:,1:]+=d[0,:,:-1]\n",
    "    m[:,:-1]-=d[0,:,:-1]\n",
    "    m[1:,:]+=d[1,:-1,:]\n",
    "    m[:-1,:]-=d[1,:-1,:]"
   ]
  },
  {
   "cell_type": "code",
   "execution_count": null,
   "metadata": {
    "id": "-N_FO7ogY5A5"
   },
   "outputs": [],
   "source": [
    "class laplacian_2d(Operator):\n",
    "\n",
    "  def __init__(self,mod,dat):\n",
    "\n",
    "    if not isinstance(mod,FloatVector) or not isinstance(dat,FloatVector):\n",
    "      raise Exception(\"model and data must be FloatVectors\")\n",
    "    \n",
    "    nmod=mod.get_hyper().get_ns()\n",
    "    ndat=dat.get_hyper().get_ns()\n",
    "    if len(nmod)!=2 or len(ndat)!=2:\n",
    "      raise Exception(\"Unacceptable dimension\")\n",
    "    \n",
    "    if nmod[0]!=ndat[0] or nmod[1]!=ndat[1]:\n",
    "      raise Exception(\"Model and data size don't work\")\n",
    "    \n",
    "    super().__init__(mod,dat)\n",
    "\n",
    "  def forward(self,add,model,data):\n",
    "    self.checkDomainRange(model,data)\n",
    "    if not add:\n",
    "      data.zero()\n",
    "    d=data.get_nd_array()\n",
    "    m=model.get_nd_array()\n",
    "\n",
    "    d[1:-1,1:-1]+=m[1:-1,1:-1]-.25*(m[0:-2,1:-1]+m[2:,1:-1]+m[1:-1,0:-2]+m[1:-1,2:])\n",
    "\n",
    "  def adjoint(self,add,model,data):\n",
    "    self.checkDomainRange(model,data)\n",
    "    if not add:\n",
    "      model.zero()\n",
    "\n",
    "    d=data.get_nd_array()\n",
    "    m=model.get_nd_array() \n",
    "\n",
    "    m[1:-1,1:-1]+=d[1:-1,1:-1]\n",
    "    m[0:-2,1:-1]-=.25*d[1:-1,1:-1]\n",
    "    m[2:,1:-1]-=.25*d[1:-1,1:-1]\n",
    "    m[1:-1,0:-2]-=.25*d[1:-1,1:-1]\n",
    "    m[1:-1,2:]-=.25*d[1:-1,1:-1]\n"
   ]
  },
  {
   "cell_type": "code",
   "execution_count": null,
   "metadata": {
    "id": "M_J1F5G0Zuc-"
   },
   "outputs": [],
   "source": [
    "from genericSolver.pyProblem import ProblemL2LinearReg\n",
    "from genericSolver.pyLinearSolver import LCGsolver\n",
    "from genericSolver.pyStopper import BasicStopper \n",
    "from sep_plot import Grey\n",
    "\n",
    "\n",
    "ns=model.get_hyper().get_ns()\n",
    "ns.append(2)\n",
    "regSpace=vec_class.get_sep_vector(ns=ns)\n",
    "lap2=laplacian_2d(model,model)\n",
    "grad2=igrad2(model,regSpace)\n",
    "\n",
    "eps=1\n",
    "model.zero()\n",
    "prob=ProblemL2LinearReg(model,data,oper,epsilon=eps,reg_op=grad2)\n",
    "stop=BasicStopper(niter=10000)\n",
    "\n",
    "solve=LCGsolver(stop)\n",
    "solve.setDefaults(save_obj=True,save_res=True)\n",
    "solve.run(prob)"
   ]
  },
  {
   "cell_type": "code",
   "execution_count": null,
   "metadata": {
    "colab": {
     "base_uri": "https://localhost:8080/"
    },
    "id": "UOOXkjqla5pE",
    "outputId": "64761291-f373-4f0e-9719-5703c18502e7"
   },
   "outputs": [],
   "source": [
    "print(prob.data.min(),prob.data.max(),\"data range\")\n",
    "print(prob.model.min(),prob.model.max(),\"model range\")"
   ]
  },
  {
   "cell_type": "code",
   "execution_count": null,
   "metadata": {
    "id": "yVrhih5pv3DU"
   },
   "outputs": [],
   "source": []
  },
  {
   "cell_type": "code",
   "execution_count": null,
   "metadata": {
    "colab": {
     "base_uri": "https://localhost:8080/",
     "height": 514
    },
    "id": "zyS_k5CXbXxm",
    "outputId": "56d80298-0567-4a35-c04e-ac2ec3dc5d70"
   },
   "outputs": [],
   "source": [
    "import holoviews as hv\n",
    "hv.extension('bokeh','matplotlib')\n",
    "print(prob.data.min(),prob.data.max())\n",
    "Grey(prob.model,transp=False,bclip=-250,eclip=-210,invert_yaxis=False,width=700,height=450)"
   ]
  },
  {
   "cell_type": "code",
   "execution_count": null,
   "metadata": {
    "colab": {
     "base_uri": "https://localhost:8080/",
     "height": 347
    },
    "id": "aKCum_tudy8D",
    "outputId": "c57c85da-a0b7-4d55-ecbf-f39b8f0f2baf"
   },
   "outputs": [],
   "source": [
    "import holoviews as hv\n",
    "hv.extension('bokeh','matplotlib')\n",
    "from sep_plot import Graph\n",
    "res=prob.res.vecs[0].get_nd_array()\n",
    "res_data=res[:100000].reshape((100,1000))\n",
    "Graph(res_data,width=1000)"
   ]
  },
  {
   "cell_type": "code",
   "execution_count": null,
   "metadata": {
    "id": "jT6ZeTbef4TM"
   },
   "outputs": [],
   "source": [
    "res=prob.res.vecs[1].get_nd_array()\n"
   ]
  },
  {
   "cell_type": "code",
   "execution_count": null,
   "metadata": {
    "colab": {
     "base_uri": "https://localhost:8080/",
     "height": 347
    },
    "id": "ZwTKSp9Ayge1",
    "outputId": "515e9689-7f36-4c75-fb7b-84721aea2da4"
   },
   "outputs": [],
   "source": [
    "import holoviews as hv\n",
    "hv.extension('bokeh','matplotlib')\n",
    "from sep_plot import Graph\n",
    "res=prob.res.vecs[1].get_nd_array().ravel()\n",
    "res2=res[:59000].reshape((59,1000))\n",
    "Graph(res2,width=1000)"
   ]
  },
  {
   "cell_type": "code",
   "execution_count": null,
   "metadata": {
    "colab": {
     "base_uri": "https://localhost:8080/",
     "height": 514
    },
    "id": "3BsY5Nx8yiky",
    "outputId": "1aa0377a-e082-4d90-8890-31d690993430"
   },
   "outputs": [],
   "source": [
    "import holoviews as hv\n",
    "import sep_python.sep_vector\n",
    "hv.extension('bokeh','matplotlib')\n",
    "Grey(prob.res.vecs[1].get_nd_array()[1,:,:],transp=False,invert_yaxis=False,width=700,height=450)"
   ]
  },
  {
   "cell_type": "code",
   "execution_count": null,
   "metadata": {
    "id": "ETAxWDuuzI81"
   },
   "outputs": [],
   "source": [
    "path=np.vectorize(complex)(xar,yar)\n",
    "\n",
    "\n"
   ]
  },
  {
   "cell_type": "code",
   "execution_count": null,
   "metadata": {
    "id": "KGV-Dkt5mngc"
   },
   "outputs": [],
   "source": [
    "import math\n",
    "xdif=np.copy(xar)\n",
    "ydif=np.copy(yar)\n",
    "xdif[:-1]=xar[1:]-xar[:-1]\n",
    "ydif[:-1]=yar[1:]-yar[:-1]\n",
    "xdif[-1]=xdif[-2]\n",
    "ydif[-1]=ydif[-2]\n",
    "ipath=np.zeros(ydif.shape,dtype=np.int32)\n",
    "\n",
    "@numba.njit()\n",
    "def calc_angles(xdif,ydif):\n",
    "  ang=np.copy(xdif)\n",
    "  for i in range(xdif.shape[0]-1):\n",
    "    num=xdif[i]*xdif[i+1]*ydif[i]*ydif[i+1]\n",
    "    den=math.sqrt(xdif[i]*xdif[i]+ydif[i]*ydif[i])*\\\n",
    "      math.sqrt(xdif[i+1]*xdif[i+1]+ydif[i+1]*ydif[i+1])\n",
    "    ang[i]=math.asin(num/(den+.000001))\n",
    "  ang[-1]=ang[-2]\n",
    "  ang=ang*180./math.pi\n",
    "  return ang\n",
    "\n",
    "@numba.njit()\n",
    "def find_segment(xdif,ydif,angle,max_shift,angle_shift,path):\n",
    "  ipath=0\n",
    "  path[0]=0\n",
    "  sq_dist=max_shift*max_shift\n",
    "  for i in range(1,xar.shape[0]):\n",
    "    distsq=xdif[i-1]*xdif[i-1]+ydif[i-1]*ydif[i-1]\n",
    "    if distsq > sq_dist or (distsq >.0001 and angle[i-1]>angle_shift):\n",
    "       ipath+=1\n",
    "    path[i]=ipath\n",
    "  return path\n",
    "\n",
    "angles=calc_angles(xdif,ydif)\n",
    "path_label=find_segment(xdif,ydif,angles,.2,10.,ipath)  \n",
    "\n",
    "def create_list(path,path_label):\n",
    "  paths=[]\n",
    "  ibeg=0\n",
    "  lengths=[]\n",
    "  for i in range(1,path_label.shape[0]):\n",
    "    if path_label[i]!=path_label[i-1]:\n",
    "      loc=path[ibeg:i-1]\n",
    "      lengths.append((i-ibeg))    \n",
    "      ibeg=i\n",
    "      paths.append(loc)\n",
    "  loc=path[ibeg:]\n",
    "  paths.append(loc)\n",
    "  lengths.append(path.shape[0]-ibeg)\n",
    "  return paths,lengths\n",
    "\n",
    "segments,lengths=create_list(path,path_label)"
   ]
  },
  {
   "cell_type": "code",
   "execution_count": null,
   "metadata": {
    "colab": {
     "base_uri": "https://localhost:8080/",
     "height": 947
    },
    "id": "VDRB17Tdi7xa",
    "outputId": "3a7b35c0-c14c-4e8b-a741-d342edc6d01e"
   },
   "outputs": [],
   "source": [
    " import holoviews as hv\n",
    "hv.extension('bokeh','matplotlib')\n",
    "plots=[Graph(segment) for segment in segments]\n",
    "hv.Overlay(plots).opts(width=700,height=900)"
   ]
  },
  {
   "cell_type": "code",
   "execution_count": null,
   "metadata": {
    "colab": {
     "base_uri": "https://localhost:8080/",
     "height": 347
    },
    "id": "y3DUyQ86pCNo",
    "outputId": "0db77cf3-adea-4d5a-902f-003cd1fac302"
   },
   "outputs": [],
   "source": [
    "import holoviews as hv\n",
    "hv.extension('bokeh','matplotlib')\n",
    "from sep_plot import Graph\n",
    "res=prob.res.vecs[1].get_nd_array().ravel()\n",
    "res2=path[:1000]\n",
    "Graph(res2,width=1000)"
   ]
  },
  {
   "cell_type": "code",
   "execution_count": null,
   "metadata": {
    "id": "1VyfrF7oFRaU"
   },
   "outputs": [],
   "source": [
    "class scale(Operator):\n",
    "\n",
    "  def __init__(self,mod,dat,scale):\n",
    "\n",
    "    if not isinstance(mod,FloatVector) or not isinstance(dat,FloatVector):\n",
    "      raise Exception(\"model and data must be FloatVectors\")\n",
    "    \n",
    "    if not isinstance(scale,np.ndarray):\n",
    "      raise Exception(\"Scale must be nd-array\")\n",
    "    \n",
    "    nmod=mod.get_hyper().get_ns()\n",
    "    ndat=dat.get_hyper().get_ns()\n",
    "    if len(nmod)!=2 or len(ndat)!=2 or len(scale.shape)!=2:\n",
    "      raise Exception(\"Unacceptable dimension\")\n",
    "    \n",
    "    if nmod[0]!=ndat[0] or nmod[1]!=ndat[1] or ndat[0]!=scale.shape[0]\\\n",
    "      or ndat[1]!=scale.shape[1]:\n",
    "      raise Exception(\"Model,data, shape sizes don't work\")\n",
    "      self._scale=scale\n",
    "    \n",
    "    super().__init__(mod,dat)\n",
    "\n",
    "  def forward(self,add,model,data):\n",
    "    self.checkDomainRange(model,data)\n",
    "    if not add:\n",
    "      data.zero()\n",
    "    d=data.get_nd_array()\n",
    "    m=model.get_nd_array()\n",
    "\n",
    "    d+=self._scale*m\n",
    "\n",
    "  def adjoint(self,add,model,data):\n",
    "    self.checkDomainRange(model,data)\n",
    "    if not add:\n",
    "      model.zero()\n",
    "\n",
    "    d=data.get_nd_array()\n",
    "    m=model.get_nd_array() \n",
    "\n",
    "    m+=scale._scale*d"
   ]
  },
  {
   "cell_type": "code",
   "execution_count": null,
   "metadata": {
    "colab": {
     "base_uri": "https://localhost:8080/"
    },
    "id": "F7jbYTNwus3B",
    "outputId": "d6b44926-3d9a-492c-da03-750d2ed19424"
   },
   "outputs": [],
   "source": [
    "import scipy.signal\n",
    "def median_filter(lengths,data):\n",
    "  data_out=data.clone()\n",
    "  din=data.get_nd_array()\n",
    "  dout=data_out.get_nd_array()\n",
    "  ibeg=0\n",
    "  for length in lengths:\n",
    "    dout[ibeg:ibeg+length]=scipy.signal.medfilt(din[ibeg:ibeg+length],9)\n",
    "    ibeg+=length\n",
    "  return data_out\n",
    "\n",
    "d_median=median_filter(lengths,data)"
   ]
  },
  {
   "cell_type": "code",
   "execution_count": null,
   "metadata": {
    "id": "rMZiWMKXIAK9"
   },
   "outputs": [],
   "source": [
    "from genericSolver.pyProblem import ProblemL2LinearReg\n",
    "from genericSolver.pyLinearSolver import LCGsolver\n",
    "from genericSolver.pyStopper import BasicStopper \n",
    "from sep_plot import Grey\n",
    "\n",
    "\n",
    "ns=model.get_hyper().get_ns()\n",
    "ns.append(2)\n",
    "regSpace=vec_class.get_sep_vector(ns=ns)\n",
    "lap2=laplacian_2d(model,model)\n",
    "grad2=igrad2(model,regSpace)\n",
    "\n",
    "eps=1\n",
    "model.zero()\n",
    "prob_med=ProblemL2LinearReg(model,d_median,oper,epsilon=eps,reg_op=grad2)\n",
    "stop=BasicStopper(niter=10000)\n",
    "\n",
    "solve=LCGsolver(stop)\n",
    "solve.setDefaults(save_obj=True,save_res=True)\n",
    "solve.run(prob_med)"
   ]
  },
  {
   "cell_type": "code",
   "execution_count": null,
   "metadata": {
    "colab": {
     "base_uri": "https://localhost:8080/",
     "height": 514
    },
    "id": "RqdifDwHIiU3",
    "outputId": "f948ceae-9cc9-41b3-aee6-5cb9e27d01b1"
   },
   "outputs": [],
   "source": [
    "import holoviews as hv\n",
    "hv.extension('bokeh','matplotlib')\n",
    "print(prob_med.data.min(),prob_med.data.max())\n",
    "Grey(prob_med.model,transp=False,bclip=-250,eclip=-210,invert_yaxis=False,width=700,height=450)"
   ]
  },
  {
   "cell_type": "code",
   "execution_count": null,
   "metadata": {
    "colab": {
     "base_uri": "https://localhost:8080/",
     "height": 668
    },
    "id": "YMFdPdzKImzP",
    "outputId": "c774b7ac-ffd8-4a14-f23f-45094902e7ac"
   },
   "outputs": [],
   "source": [
    "import holoviews as hv\n",
    "hv.extension('bokeh','matplotlib')\n",
    "from sep_plot import Graph\n",
    "res=prob_med.res.vecs[0].get_nd_array()\n",
    "res_m=res[:100000].reshape((100,1000))\n",
    "hv.Layout(Graph(res_m,width=1000)+Graph(res_data,width=1000)).cols(1)\n"
   ]
  },
  {
   "cell_type": "code",
   "execution_count": null,
   "metadata": {
    "id": "bTzieTBwItvY"
   },
   "outputs": [],
   "source": [
    "import scipy.signal\n",
    "def median_filter(lengths,data):\n",
    "  data_out=data.clone()\n",
    "  din=data.get_nd_array()\n",
    "  dout=data_out.get_nd_array()\n",
    "  ibeg=0\n",
    "  for length in lengths:\n",
    "    if length >5:\n",
    "      dtmp=np.zeros((length+4,))\n",
    "      dtmp[2:-2]=dout[ibeg:ibeg+length]\n",
    "      dtmp[1]=dtmp[3]\n",
    "      dtmp[0]=dtmp[4]\n",
    "      dtmp[-1]=dtmp[-3]\n",
    "      dtmp[-2]=dtmp[-4]\n",
    "      dout[ibeg:ibeg+length]=scipy.signal.medfilt(dtmp,5)[2:-2]\n",
    "    else:\n",
    "      for i in range(ibeg,ibeg+length):\n",
    "        if dout[i]==0:\n",
    "          dout[i]=dout[i-1]\n",
    "    ibeg+=length\n",
    "  return data_out\n",
    "\n",
    "d_median=median_filter(lengths,data)"
   ]
  },
  {
   "cell_type": "code",
   "execution_count": null,
   "metadata": {
    "id": "Em8Yl2HIoeIp"
   },
   "outputs": [],
   "source": [
    "from genericSolver.pyProblem import ProblemL2LinearReg\n",
    "from genericSolver.pyLinearSolver import LCGsolver\n",
    "from genericSolver.pyStopper import BasicStopper \n",
    "from sep_plot import Grey\n",
    "\n",
    "\n",
    "ns=model.get_hyper().get_ns()\n",
    "ns.append(2)\n",
    "regSpace=vec_class.get_sep_vector(ns=ns)\n",
    "lap2=laplacian_2d(model,model)\n",
    "grad2=igrad2(model,regSpace)\n",
    "\n",
    "eps=1\n",
    "model.zero()\n",
    "prob_med2=ProblemL2LinearReg(model,d_median,oper,epsilon=eps,reg_op=grad2)\n",
    "stop=BasicStopper(niter=10000)\n",
    "\n",
    "solve=LCGsolver(stop)\n",
    "solve.setDefaults(save_obj=True,save_res=True)\n",
    "solve.run(prob_med2)"
   ]
  },
  {
   "cell_type": "code",
   "execution_count": null,
   "metadata": {
    "colab": {
     "base_uri": "https://localhost:8080/",
     "height": 668
    },
    "id": "qyYLsrMipO7H",
    "outputId": "58c59e6a-7704-4de9-ef1b-5dc8eaa666b8"
   },
   "outputs": [],
   "source": [
    "import holoviews as hv\n",
    "hv.extension('bokeh','matplotlib')\n",
    "from sep_plot import Graph\n",
    "res=prob_med2.res.vecs[0].get_nd_array()\n",
    "res_m=res[:100000].reshape((100,1000))\n",
    "hv.Layout(Graph(res_m,width=1000)+Graph(res_data,width=1000)).cols(1)\n"
   ]
  },
  {
   "cell_type": "code",
   "execution_count": null,
   "metadata": {
    "colab": {
     "base_uri": "https://localhost:8080/",
     "height": 347
    },
    "id": "sWivCRjMxmTZ",
    "outputId": "43f546ba-808a-4025-c7c4-f7e247e11843"
   },
   "outputs": [],
   "source": [
    "import holoviews as hv\n",
    "hv.extension('bokeh','matplotlib')\n",
    "from sep_plot import Graph\n",
    "res=prob_med2.res.vecs[0].get_nd_array()\n",
    "res_m=res[:100000].reshape((100,1000))\n",
    "Graph(res_m,width=1000)"
   ]
  },
  {
   "cell_type": "code",
   "execution_count": null,
   "metadata": {
    "colab": {
     "base_uri": "https://localhost:8080/"
    },
    "id": "tNWTv-34pepo",
    "outputId": "9c27bb32-e97d-4409-e62c-7a7d5131210c"
   },
   "outputs": [],
   "source": [
    "print(res_m[77,750:760].min())\n",
    "print(res[77750:77760],path_label[77750:77760],data.get_nd_array()[77750:77760])"
   ]
  },
  {
   "cell_type": "code",
   "execution_count": null,
   "metadata": {
    "colab": {
     "base_uri": "https://localhost:8080/",
     "height": 514
    },
    "id": "fqRfLFRypTB2",
    "outputId": "aa9c6f2b-67ec-467c-cf9f-7011d995d6b8"
   },
   "outputs": [],
   "source": [
    "import holoviews as hv\n",
    "hv.extension('bokeh','matplotlib')\n",
    "print(prob_med.data.min(),prob_med.data.max())\n",
    "Grey(prob_med.model,transp=False,bclip=-250,eclip=-210,invert_yaxis=False,width=700,height=450)"
   ]
  },
  {
   "cell_type": "code",
   "execution_count": null,
   "metadata": {
    "colab": {
     "base_uri": "https://localhost:8080/"
    },
    "id": "2l2QqTe8pTqe",
    "outputId": "4bb538de-153a-40ac-eff5-881046f5e455"
   },
   "outputs": [],
   "source": [
    "eps_vals=[10.**v for v in np.linspace(-3,3,25)]\n",
    "objs=np.array([],dtype=np.complex64)\n",
    "for eps in eps_vals:\n",
    "  print(eps)\n",
    "  model.zero()\n",
    "  solve=LCGsolver(stop)\n",
    "  prob_med2=ProblemL2LinearReg(model,d_median,oper,epsilon=eps,reg_op=grad2)\n",
    "  solve.setDefaults(save_obj=True)\n",
    "  solve.run(prob_med2)\n",
    "  objs=np.append(objs,complex(eps,solve.obj[-1]))\n",
    "\n"
   ]
  },
  {
   "cell_type": "code",
   "execution_count": null,
   "metadata": {
    "colab": {
     "base_uri": "https://localhost:8080/",
     "height": 573
    },
    "id": "yMIYCMTtscVE",
    "outputId": "315bb82c-e58e-4855-c01b-c737d6491c4e"
   },
   "outputs": [],
   "source": [
    "import holoviews as hv\n",
    "print(objs)\n",
    "hv.extension('bokeh','matplotlib')\n",
    "Graph(objs,logx=True)"
   ]
  },
  {
   "cell_type": "code",
   "execution_count": null,
   "metadata": {
    "colab": {
     "base_uri": "https://localhost:8080/"
    },
    "id": "nqqjgH9CtO16",
    "outputId": "7103837c-e160-4001-a18f-dea735a97c09"
   },
   "outputs": [],
   "source": [
    "lin=np.linspace(-1,.5,25)\n",
    "objs=np.array([],dtype=np.complex64)\n",
    "for e in lin:\n",
    "  print(e,10**e)\n",
    "  model.zero()\n",
    "  solve=LCGsolver(stop)\n",
    "  prob_med2=ProblemL2LinearReg(model,d_median,oper,epsilon=10**e,reg_op=grad2)\n",
    "  solve.setDefaults(save_obj=True)\n",
    "  solve.run(prob_med2)\n",
    "  objs=np.append(objs,complex(e,solve.obj[-1]))"
   ]
  },
  {
   "cell_type": "code",
   "execution_count": null,
   "metadata": {
    "colab": {
     "base_uri": "https://localhost:8080/",
     "height": 573
    },
    "id": "1wMDFc0ywuNd",
    "outputId": "5e493385-7df1-4390-84c8-ea7275ea02bf"
   },
   "outputs": [],
   "source": [
    "import holoviews as hv\n",
    "print(objs)\n",
    "hv.extension('bokeh','matplotlib')\n",
    "Graph(objs,logx=True)"
   ]
  },
  {
   "cell_type": "code",
   "execution_count": null,
   "metadata": {
    "colab": {
     "base_uri": "https://localhost:8080/",
     "height": 236
    },
    "id": "rEOP_I_dWd0V",
    "outputId": "4bed48b6-faeb-47c2-c502-5930721eaf90"
   },
   "outputs": [],
   "source": [
    "class i_op(Operator):\n",
    "\n",
    "  def __init__(self,model,data):\n",
    "\n",
    "    if not model.check_same(data):\n",
    "      raise Exception(\"Domain and range must be same\")\n",
    "  \n",
    "    super().__init__(model,data)\n",
    "  \n",
    "  def forward(self,add,model,data):\n",
    "    if not add:\n",
    "      data.zero()\n",
    "    \n",
    "    data.scale_add(model)\n",
    "  \n",
    "  def adjoint(self,add,model,data):\n",
    "\n",
    "    if not add:\n",
    "      model.zero()\n",
    "\n",
    "    model.scale_add(data)\n",
    "  \n",
    "\n",
    "class fake_op(Operator):\n",
    "\n",
    "  def __init__(self,model,ipath,op,sc):\n",
    "\n",
    "    path=sep_python.sep_vector.get_sep_vector(ns=[max(ipath)])\n",
    "    print(max(ipath),ipath.max(),model.get_nd_array().shape,\"SSS\")\n",
    "    mod=superVector(model,path)\n",
    "    self._iop=i_op(path,path)\n",
    "    self._op=op\n",
    "    self._sc=sc\n",
    "    self._tmp=path.clone()\n",
    "    data=superVector(op.range,path)\n",
    "\n",
    "    super().__init__(mod,data)\n",
    "\n",
    "  def forward(self,add,model,data):\n",
    "\n",
    "    self.checkDomainRange(model,data)\n",
    "    self._op.forward(add,model.vecs[0],data.vecs[0])\n",
    "    self._tmp.scale_add(model.vecs[1],sc1=0,sc2=self._sc)\n",
    "    self._iop.forward(add,self._tmp,data.vecs[1])\n",
    "  \n",
    "  def adjoint(self,add,model,data):\n",
    "    self.checkDomainRange(model,data)\n",
    "    self._op.adjoint(add,model.vecs[0],data.vecs[0])\n",
    "    self._tmp.scale_add(data.vecs[1],sc1=0,sc2=self._sc)\n",
    "    self._iop.adjoint(add,model.vecs[1],self._tmp)"
   ]
  },
  {
   "cell_type": "code",
   "execution_count": null,
   "metadata": {
    "id": "3EdMi2j_ytL5"
   },
   "outputs": [],
   "source": [
    "from genericSolver.pyVector import superVector\n",
    "\n",
    "class linear_interp_2d_plus(Operator):\n",
    "  def __init__(self,model:superVector,data:FloatVector,x,y,ipath):\n",
    "    if not isinstance(model,superVector) or not isinstance(data,FloatVector):\n",
    "      raise Exception(\"wrong input\")\n",
    "    \n",
    "    axes=model.vecs[0].get_hyper().axes\n",
    "    if len(axes)!=2:\n",
    "      raise Exception(\"expecting model to be 2-D\")\n",
    "\n",
    "    self._f1=(x-axes[0].o)/axes[0].d\n",
    "    self._f2=(y-axes[1].o)/axes[1].d\n",
    "    print(type(x),type(y),\"XY\")\n",
    "    self._ipos2=np.int_(self._f2)\n",
    "    self._ipos1=np.int_(self._f1)\n",
    "    self._f1-=self._ipos1\n",
    "    self._f2-=self._ipos2\n",
    "    self._e1=1.-self._f1\n",
    "    self._e2=1.-self._f2\n",
    "    self._ipath=ipath\n",
    "    find_outside(axes[0].n,axes[1].n,self._ipos1,self._ipos2,self._f1,\\\n",
    "        self._f2,self._e1,self._e2)\n",
    "    super().__init__(model,data)\n",
    "\n",
    "  def forward(self,add,model,data):\n",
    "    self.checkDomainRange(model,data)\n",
    "    if not add:\n",
    "      data.zero()\n",
    "    d=data.get_nd_array()\n",
    "    m=model.vecs[0].get_nd_array()\n",
    "    p=model.vecs[1].get_nd_array()\n",
    "    forward_it2(m,p,d,self._ipath,self._ipos1,self._ipos2,self._f1,self._f2,self._e1,self._e2)\n",
    "    \n",
    "  def adjoint(self,add,model,data):\n",
    "    self.checkDomainRange(model,data)\n",
    "    if not add:\n",
    "      model.zero()\n",
    "    m=model.vecs[0].get_nd_array()\n",
    "    p=model.vecs[1].get_nd_array()\n",
    "    d=data.get_nd_array()\n",
    "    adjoint_it2(m,p,d,self._ipath,self._ipos1,self._ipos2,self._f1,self._f2,self._e1,self._e2)\n",
    "\n",
    "  \n",
    "\n",
    "@numba.njit()\n",
    "def forward_it2(m,p,d,ipath,ipos1,ipos2,f1,f2,e1,e2):\n",
    "\n",
    "  for i in range(ipos1.shape[0]):\n",
    "   d[i]+=m[ipos2[i],ipos1[i]]*f1[i]*f2[i]+\\\n",
    "      m[ipos2[i]+1,ipos1[i]]*f1[i]*e2[i]+\\\n",
    "      m[ipos2[i],ipos1[i]+1]*e1[i]*f2[i]+\\\n",
    "      m[ipos2[i]+1,ipos1[i]+1]*e1[i]*e2[i]+p[ipath[i]]\n",
    "@numba.njit()\n",
    "def adjoint_it2(m,p,d,ipath,ipos1,ipos2,f1,f2,e1,e2):\n",
    "\n",
    "  for i in range(ipos1.shape[0]):\n",
    "   m[ipos2[i],ipos1[i]]+=d[i]*f1[i]*f2[i]\n",
    "   m[ipos2[i]+1,ipos1[i]]+=d[i]*e2[i]*f1[i]\n",
    "   m[ipos2[i],ipos1[i]+1]+=d[i]*e1[i]*f2[i]\n",
    "   m[ipos2[i]+1,ipos1[i]+1]+=d[i]*e1[i]*e2[i]\n",
    "   p[ipath[i]]+=d[i]"
   ]
  },
  {
   "cell_type": "code",
   "execution_count": null,
   "metadata": {
    "id": "Jm4aCoHfawxl",
    "tags": []
   },
   "outputs": [],
   "source": [
    "a1=new_model.vecs[0]\n",
    "a2=new_model.vecs[1]\n",
    "print(a1.get_nd_array().shape,a2.get_nd_array().shape)"
   ]
  },
  {
   "cell_type": "code",
   "execution_count": null,
   "metadata": {
    "id": "inc4okuvbCra",
    "tags": []
   },
   "outputs": [],
   "source": [
    "eps=1\n",
    "model.zero()\n",
    "new_reg=fake_op(model,ipath,grad2,1.)\n",
    "new_model=new_reg.getDomain().clone()\n",
    "op_new=linear_interp_2d_plus(new_model,data,x,y,ipath)\n",
    "prob_med2=ProblemL2LinearReg(new_model,d_median,op_new,epsilon=eps,reg_op=new_reg)\n",
    "stop=BasicStopper(niter=10000)\n",
    "\n",
    "solve=LCGsolver(stop)\n",
    "solve.setDefaults(save_obj=True,save_res=True)\n",
    "solve.run(prob_med2)"
   ]
  },
  {
   "cell_type": "code",
   "execution_count": null,
   "metadata": {
    "tags": []
   },
   "outputs": [],
   "source": [
    "import holoviews as hv\n",
    "hv.extension('bokeh','matplotlib')\n",
    "print(prob_med2.data.min(),prob_med.data.max())\n",
    "Grey(prob_med2.model.vecs[0],transp=False,bclip=-250,eclip=-210,invert_yaxis=False,width=700,height=450)"
   ]
  },
  {
   "cell_type": "code",
   "execution_count": null,
   "metadata": {
    "tags": []
   },
   "outputs": [],
   "source": [
    "import holoviews as hv\n",
    "Graph(prob_med2.model.vecs[1],width=600)"
   ]
  },
  {
   "cell_type": "code",
   "execution_count": null,
   "metadata": {
    "tags": []
   },
   "outputs": [],
   "source": [
    "res=prob_med2.res.vecs[0].get_nd_array()\n",
    "res_m=res[:100000].reshape((100,1000))\n",
    "Graph(res_m,width=1000)"
   ]
  },
  {
   "cell_type": "code",
   "execution_count": null,
   "metadata": {},
   "outputs": [],
   "source": [
    "import matplotlib.pyplot as plt\n",
    "res.shape"
   ]
  },
  {
   "cell_type": "code",
   "execution_count": null,
   "metadata": {
    "tags": []
   },
   "outputs": [],
   "source": [
    "arr=np.histogram(res,bins=np.linspace(-2,2,500))\n",
    "Graph(sep_python.sep_vector.get_sep_vector(arr[0].astype(\"float32\")))"
   ]
  },
  {
   "cell_type": "code",
   "execution_count": null,
   "metadata": {},
   "outputs": [],
   "source": []
  }
 ],
 "metadata": {
  "colab": {
   "provenance": []
  },
  "kernelspec": {
   "display_name": "Python 3 (ipykernel)",
   "language": "python",
   "name": "python3"
  },
  "language_info": {
   "codemirror_mode": {
    "name": "ipython",
    "version": 3
   },
   "file_extension": ".py",
   "mimetype": "text/x-python",
   "name": "python",
   "nbconvert_exporter": "python",
   "pygments_lexer": "ipython3",
   "version": "3.9.7"
  }
 },
 "nbformat": 4,
 "nbformat_minor": 4
}
