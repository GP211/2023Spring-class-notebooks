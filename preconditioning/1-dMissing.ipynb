{
 "cells": [
  {
   "cell_type": "markdown",
   "id": "fbafc3df-14ed-478c-b0df-9930f8e5f640",
   "metadata": {},
   "source": [
    "<a href=\"https://colab.research.google.com/github/rgclapp007/gp211-class-notebooks/blob/main/regularization/miss1d.ipynb\" target=\"_parent\"><img src=\"https://colab.research.google.com/assets/colab-badge.svg\" alt=\"Open In Colab\"/></a>"
   ]
  },
  {
   "cell_type": "code",
   "execution_count": null,
   "id": "3ce4c7ee-a55a-4199-86af-0696cd79e9b2",
   "metadata": {},
   "outputs": [],
   "source": [
    "!python -m pip install \"sep_plot @ git+http://zapad.stanford.edu/bob/pySepPlot.git@2bffacb9fb36963339a0834c2b04a0aedff91db4\"\n"
   ]
  },
  {
   "cell_type": "code",
   "execution_count": null,
   "id": "46282d45-8d34-4ab3-9ca5-f0ea2769d78b",
   "metadata": {
    "tags": []
   },
   "outputs": [],
   "source": [
    "import numba\n",
    "from genericSolver.pyOperator import Operator, ChainOperator\n",
    "from sep_python.sep_vector import FloatVector,get_sep_vector\n",
    "import numpy as np\n",
    "class tconv(Operator):\n",
    "\n",
    "  def __init__(self,mod:FloatVector,dat:FloatVector,filt:np.ndarray):\n",
    "    if not isinstance(mod,FloatVector) or not isinstance(dat,FloatVector):\n",
    "      raise Exception(f\"Expecting float vectors got {type(mod)} and {type(dat)}\")\n",
    "    nm=mod.get_hyper().get_ns()\n",
    "    nd=dat.get_hyper().get_ns()\n",
    "\n",
    "    if not isinstance(filt,np.ndarray):\n",
    "      raise Exception(\"Expecting filter to be an n-d array\")\n",
    "\n",
    "    if len(list(filt.shape))!=1:\n",
    "      raise Exception(\"Expecting filter to be 1-D\")\n",
    "    \n",
    "    if len(nm) !=1 or len(nd)!=1:\n",
    "      raise Exception(\"Expecting 1-D vectors\")\n",
    "    \n",
    "    if nd[0]!=nm[0]+filt.shape[0]-1:\n",
    "      raise Exception(\"Expecting size of data to be len(filt)+len(mod)-1\")\n",
    "    \n",
    "    self._filt=np.copy(filt)\n",
    "\n",
    "    super().__init__(mod,dat)\n",
    "\n",
    "  def forward(self,add,mod,dat):\n",
    "    self.checkDomainRange(mod,dat)\n",
    "    if not add:\n",
    "      dat.zero()\n",
    "\n",
    "    tconv_forward(mod.get_nd_array(),dat.get_nd_array(),self._filt)\n",
    "\n",
    "  def adjoint(self,add,mod,dat):\n",
    "    self.checkDomainRange(mod,dat)\n",
    "    if not add:\n",
    "      mod.zero()\n",
    "\n",
    "    tconv_adjoint(mod.get_nd_array(),dat.get_nd_array(),self._filt)\n",
    "  \n",
    "@numba.njit()\n",
    "def tconv_forward(mod,dat,filt):\n",
    "  for imod in range(mod.shape[0]):\n",
    "    for ifilt in range(filt.shape[0]):\n",
    "      dat[imod+ifilt]+=filt[ifilt]*mod[imod]\n",
    "\n",
    "@numba.njit()\n",
    "def tconv_adjoint(mod,dat,filt):\n",
    "  for imod in range(mod.shape[0]):\n",
    "    for ifilt in range(filt.shape[0]):\n",
    "      mod[imod]+=filt[ifilt]*dat[imod+ifilt]\n"
   ]
  },
  {
   "cell_type": "code",
   "execution_count": null,
   "id": "213ea0a8-82e3-4408-a877-cacf5f07b77c",
   "metadata": {
    "tags": []
   },
   "outputs": [],
   "source": [
    "import copy\n",
    "class Jop(Operator):\n",
    "\n",
    "  def __init__(self,mod:FloatVector,dat:FloatVector,sc):\n",
    "    if not mod.checkSame(data):\n",
    "        raise Exception(\"Model and data must be the same\")\n",
    "    \n",
    "    self._sc=copy.deepcopy(np.ravel(sc))\n",
    "    if mod.get_hyper().get_n123()!=self._sc.shape[0]:\n",
    "        raise Exception(f\"Expecting mask {self.m.shape[0]} and model {mod.get_hyper().get_n123()} to be same size \")\n",
    "\n",
    "    super().__init__(mod,dat)\n",
    "\n",
    "  def forward(self,add,mod,dat):\n",
    "    self.checkDomainRange(mod,dat)\n",
    "    if not add:\n",
    "      dat.zero()\n",
    "    \n",
    "    d=np.ravel(dat.get_nd_array())\n",
    "    m=np.ravel(mod.get_nd_array())\n",
    "    d[:]+=m[:]*self._sc[:]\n",
    "\n",
    "  def adjoint(self,add,mod,dat):\n",
    "    self.checkDomainRange(mod,dat)\n",
    "    if not add:\n",
    "      mod.zero()\n",
    "    d=np.ravel(dat.get_nd_array())\n",
    "    m=np.ravel(mod.get_nd_array())\n",
    "    m[:]+=d[:]*self._sc[:]\n",
    "  \n"
   ]
  },
  {
   "cell_type": "code",
   "execution_count": null,
   "id": "1bd1b00b-1618-447a-bf6c-139655efacf7",
   "metadata": {
    "tags": []
   },
   "outputs": [],
   "source": [
    "class  causalInt(Operator):\n",
    "\n",
    "  def __init__(self,mod:FloatVector,dat:FloatVector):\n",
    "\n",
    "    if not mod.checkSame(dat):\n",
    "        raise Exception(\"Model and data not same space\")\n",
    "\n",
    "    super().__init__(mod,dat)\n",
    "\n",
    "  def forward(self,add,mod,dat):\n",
    "    self.checkDomainRange(mod,dat)\n",
    "    if not add:\n",
    "      dat.zero()\n",
    "\n",
    "    caus_forward(mod.get_nd_array(),dat.get_nd_array())\n",
    "\n",
    "  def adjoint(self,add,mod,dat):\n",
    "    self.checkDomainRange(mod,dat)\n",
    "    if not add:\n",
    "      mod.zero()\n",
    "    caus_adjoint(mod.get_nd_array(),dat.get_nd_array())\n",
    "\n",
    "\n",
    "import math  \n",
    "@numba.njit()\n",
    "def caus_forward(mod,dat):\n",
    "  t=0\n",
    "  for imod in range(mod.shape[0]):\n",
    "    t=t+mod[imod]\n",
    "    dat[imod]+=t\n",
    "\n",
    "@numba.njit()\n",
    "def caus_adjoint(mod,dat):\n",
    "  t=0\n",
    "  for imod in range(mod.shape[0]-1,-1,-1):\n",
    "      t=t+dat[imod]\n",
    "      mod[imod]+=t\n",
    "    \n",
    "class causalBoth(Operator):\n",
    "    def __init__(self,model,data):\n",
    "        self._op=causalInt(model,data)\n",
    "        self._tmp=model.clone()\n",
    "        super().__init__(model,data)\n",
    "    \n",
    "    def forward(self,add,model,data):\n",
    "        self._op.forward(False,model,self._tmp)\n",
    "        self._op.adjoint(add,data,self._tmp)\n",
    "\n",
    "    def adjoint(self,add,model,data):\n",
    "        self._op.adjoint(False,self._tmp,data)\n",
    "        self._op.forward(add,self._tmp,data)\n",
    "    \n"
   ]
  },
  {
   "cell_type": "code",
   "execution_count": null,
   "id": "8b917a99-1592-412c-8a93-6ef8e0856124",
   "metadata": {
    "tags": []
   },
   "outputs": [],
   "source": [
    "from genericSolver.pyProblem import ProblemL2Linear,ProblemL2LinearReg\n",
    "from genericSolver.pyLinearSolver import LCGsolver\n",
    "from genericSolver.pyStopper import BasicStopper \n",
    "import holoviews as hv\n",
    "from sep_plot import Dots\n",
    "\n"
   ]
  },
  {
   "cell_type": "code",
   "execution_count": null,
   "id": "589bc76a-6dce-4b02-ab86-8d1fa9fb4b66",
   "metadata": {
    "tags": []
   },
   "outputs": [],
   "source": [
    "import holoviews as hv\n",
    "from sep_plot import Graph\n",
    "hv.extension('bokeh','matplotlib')\n",
    "fill = np.cos(np.linspace(start = -np.pi*(3/2), stop = 5*np.pi*(3/2), num = 300)).astype(np.float32)\n",
    "sc=np.zeros((300))\n",
    "sc[:]=1\n",
    "x=(300*(np.sqrt(np.random.rand(200)))).astype(np.int32)\n",
    "for i in x:\n",
    "    fill[i]=0\n",
    "inp=get_sep_vector(fill)\n",
    "filt=np.array([1,-1.])\n",
    "model=inp.clone()\n",
    "start_model=model.clone()\n",
    "nm=model.get_hyper().get_ns()\n",
    "data_reg=get_sep_vector(ns=[nm[0]+filt.shape[0]-1])\n",
    "unknown=model.clone()\n",
    "known=model.clone()\n",
    "un=unknown.get_nd_array()\n",
    "kn=known.get_nd_array()\n",
    "un[:]=1\n",
    "kn[:]=0\n",
    "for ival,val in enumerate(model.get_nd_array()):\n",
    "    if val !=0:\n",
    "      kn[ival]=1\n",
    "      un[ival]=0\n",
    "\n",
    "op=tconv(model,data_reg,filt)\n",
    "prob_base=ProblemL2Linear(model,data_reg,op,grad_mask=unknown)\n",
    "stop=BasicStopper(niter=nm[0])\n",
    "\n",
    "solve_base=LCGsolver(stop)\n",
    "solve_base.setDefaults(save_model=True)\n",
    "solve_base.run(prob_base)\n",
    "\n",
    "Graph(model)+Graph(prob_base.model)"
   ]
  },
  {
   "cell_type": "code",
   "execution_count": null,
   "id": "f451ca0c-39f8-432d-89a9-51bdf1d6479a",
   "metadata": {
    "tags": []
   },
   "outputs": [],
   "source": [
    "data_fit=start_model.clone()\n",
    "tconv_op=tconv(model,data_reg,filt)\n",
    "\n",
    "jop=Jop(model,data_fit,kn)\n",
    "model.zero()\n",
    "prob_reg=ProblemL2LinearReg(model,data_fit,jop,reg_op=tconv_op,epsilon=1.)\n",
    "stop=BasicStopper(niter=nm[0])\n",
    "\n",
    "solve_reg=LCGsolver(stop)\n",
    "solve_reg.setDefaults(save_model=True)\n",
    "solve_reg.run(prob_reg)\n",
    "Graph(data_fit,width=700)+Graph(prob_reg.model,width=700)"
   ]
  },
  {
   "cell_type": "code",
   "execution_count": null,
   "id": "17bbed90-f9a8-402f-a971-6cf730e9e2a3",
   "metadata": {},
   "outputs": [],
   "source": []
  },
  {
   "cell_type": "code",
   "execution_count": null,
   "id": "11de84b3-3b05-4e2d-8441-fb065cf0f6b0",
   "metadata": {
    "tags": []
   },
   "outputs": [],
   "source": [
    "data_fit=start_model.clone()\n",
    "jop=Jop(model,data_fit,kn)\n",
    "ones=np.ones((300))\n",
    "iop=Jop(model,model,ones)\n",
    "\n",
    "causal=causalInt(model,model)\n",
    "op_fit=ChainOperator(causal,jop)\n",
    "model.zero()\n",
    "op_fit.dotTest()\n",
    "prob_prec=ProblemL2LinearReg(model,data_fit,op_fit,reg_op=iop,epsilon=.000000)\n",
    "stop=BasicStopper(niter=100)\n",
    "\n",
    "solve_prec=LCGsolver(stop)\n",
    "solve_prec.setDefaults(save_model=True)\n",
    "solve_prec.run(prob_prec)\n",
    "tmp=prob_prec.model.clone()\n",
    "\n",
    "prob_prec.op.forward(False,prob_prec.model,prob_prec.res)\n",
    "causal.forward(False,prob_prec.model,tmp)\n",
    "Graph(prob_prec.data)+Graph(tmp)\n",
    "\n"
   ]
  },
  {
   "cell_type": "code",
   "execution_count": null,
   "id": "88a67271-ca96-46f7-8572-b0b4208e74a5",
   "metadata": {
    "tags": []
   },
   "outputs": [],
   "source": [
    "print(mod.max(),mod.min())"
   ]
  },
  {
   "cell_type": "code",
   "execution_count": null,
   "id": "1f154928-969f-4f06-bd9b-2cbd4bcf67a6",
   "metadata": {
    "tags": []
   },
   "outputs": [],
   "source": [
    "import holoviews as hv\n",
    "hv.extension('bokeh','matplotlib')\n",
    "def plot_result_reg(iter):\n",
    "    return (Graph(data_fit,width=400)+Graph(solve_reg.modelSet.vecSet[iter],width=400)).cols(1)\n",
    "\n",
    "# When run live, this cell's output should match the behavior of the GIF below\n",
    "dmap = hv.DynamicMap(plot_result_reg, kdims=['iter'])\n",
    "dmap.redim.range(iter=(0,len(solve_reg.modelSet.vecSet)-1))\n",
    "#dmap = dmap.redim.values(Method=methods)\n"
   ]
  },
  {
   "cell_type": "code",
   "execution_count": null,
   "id": "65dc7d48-4a50-40d0-8a39-953a4fcdadb2",
   "metadata": {
    "tags": []
   },
   "outputs": [],
   "source": [
    "import holoviews as hv\n",
    "hv.extension('bokeh','matplotlib')\n",
    "def plot_result_prec(iter):\n",
    "    tmp=prob_prec.model.clone()\n",
    "    causal.forward(False,solve_prec.modelSet.vecSet[iter],tmp)\n",
    "    return (Graph(data_fit,width=700)+Graph(tmp,width=700)).cols(1)\n",
    "\n",
    "# When run live, this cell's output should match the behavior of the GIF below\n",
    "dmap = hv.DynamicMap(plot_result_prec, kdims=['iter'])\n",
    "dmap.redim.range(iter=(0,50))"
   ]
  },
  {
   "cell_type": "code",
   "execution_count": null,
   "id": "cd693363-8daf-41d1-93be-703ff5209fb3",
   "metadata": {},
   "outputs": [],
   "source": []
  }
 ],
 "metadata": {
  "kernelspec": {
   "display_name": "Python 3 (ipykernel)",
   "language": "python",
   "name": "python3"
  },
  "language_info": {
   "codemirror_mode": {
    "name": "ipython",
    "version": 3
   },
   "file_extension": ".py",
   "mimetype": "text/x-python",
   "name": "python",
   "nbconvert_exporter": "python",
   "pygments_lexer": "ipython3",
   "version": "3.9.7"
  }
 },
 "nbformat": 4,
 "nbformat_minor": 5
}
